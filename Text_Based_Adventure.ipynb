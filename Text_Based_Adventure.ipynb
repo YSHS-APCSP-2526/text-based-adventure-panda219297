{
  "nbformat": 4,
  "nbformat_minor": 0,
  "metadata": {
    "colab": {
      "provenance": [],
      "include_colab_link": true
    },
    "kernelspec": {
      "name": "python3",
      "display_name": "Python 3"
    },
    "language_info": {
      "name": "python"
    }
  },
  "cells": [
    {
      "cell_type": "markdown",
      "metadata": {
        "id": "view-in-github",
        "colab_type": "text"
      },
      "source": [
        "<a href=\"https://colab.research.google.com/github/YSHS-APCSP-2526/text-based-adventure-panda219297/blob/main/Text_Based_Adventure.ipynb\" target=\"_parent\"><img src=\"https://colab.research.google.com/assets/colab-badge.svg\" alt=\"Open In Colab\"/></a>"
      ]
    },
    {
      "cell_type": "markdown",
      "source": [
        "#Requirements for text based adventure\n",
        "1. You must have at least 2 different \"paths\" that are at least 4 decisions in length\n",
        "2. Include an element of randomness (from the random library)\n",
        "3. Include a list that is core to the text based adventure\n",
        "4. Include a function that is called within your program that includes a while loop, and a parameter that influences a conditional statement in your function.\n",
        "5. Commented Code.\n",
        "6. A [digital flowchart](https://docs.google.com/document/d/1p2k3wL6gzjYWBuWxwEQptmbbOZZNsQrthlC12SNtYgY/edit?usp=sharing) that follows accepted symbols for representing code. You can use google slides or [draw.io](https://www.drawio.com/) for the flowchart."
      ],
      "metadata": {
        "id": "zpSmche7G_jy"
      }
    },
    {
      "cell_type": "code",
      "source": [
        "def fortune_teller():\n",
        "  print(\"Welcome to your Fortune Teller Game\")\n",
        "  color=input(\"Pick a color of your choice!(red/blue/yellow/black/pink/gray/orange): \").lower()\n",
        "\n",
        "  if color == \"red\":\n",
        "    print(\"\\nRed is one of the strongest colors, it's blood, it has a power with the eye. \\nThat's why traffic lights are red I guess, and stop signs as well.\")\n",
        "  elif color == \"blue\":\n",
        "    print(\"\\nThe sun is up, the sky is blue, It's beautiful, and so are you.\" )\n",
        "  elif color == \"yellow\":\n",
        "    print(\"\\nYellow is a beautiful reminder that there is always light after darkness.\")\n"
      ],
      "metadata": {
        "id": "DToswc3clKpf"
      },
      "execution_count": null,
      "outputs": []
    },
    {
      "cell_type": "code",
      "source": [
        "fortune_teller()"
      ],
      "metadata": {
        "id": "LQuG-KfJlMj3",
        "colab": {
          "base_uri": "https://localhost:8080/"
        },
        "outputId": "237a2784-8b33-4dab-d114-af8e81f6d700"
      },
      "execution_count": null,
      "outputs": [
        {
          "output_type": "stream",
          "name": "stdout",
          "text": [
            "Welcome to your Fortune Teller Game\n",
            "Pick a color of your choice!(red/blue/yellow/black/pink/gray/orange): yellow\n",
            "\n",
            "Yellow is a beautiful reminder that there is always light after darkness.\n"
          ]
        }
      ]
    }
  ]
}